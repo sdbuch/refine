{
 "cells": [
  {
   "cell_type": "markdown",
   "id": "5e14bfec",
   "metadata": {},
   "source": [
    "# Figure 5: Basin of Attraction for Textured Motif Registration\n",
    "\n",
    "The code below tests the with-background-modeling registration optimization formulation, i.e. equation (4) in the paper (arXiv v1), with either a euclidean or similarity motion model.\n",
    "\n",
    "The implementation is in numpy."
   ]
  },
  {
   "cell_type": "code",
   "execution_count": null,
   "id": "0da77bc4",
   "metadata": {},
   "outputs": [],
   "source": [
    "# Imports\n",
    "import sys\n",
    "sys.path.append(\"../src\")\n",
    "from registration_np import (generate_data, dilate_support, registration_l2_exp, get_default_pgd_dict)"
   ]
  },
  {
   "cell_type": "code",
   "execution_count": null,
   "id": "f4611e95",
   "metadata": {},
   "outputs": [],
   "source": [
    "# Change `mode` to 'euclidean' below to run the experiment for SE(2) motion model\n",
    "tra_vals = np.linspace(-30, 30, 9)\n",
    "sca_vals = np.array([0.5, 0.6, 0.7, 0.8, 0.9, 1, 1.5, 2, 2.5, 3, 3.5, 4])\n",
    "tra_list = np.repeat(tra_vals, len(sca_vals))\n",
    "sca_list = np.tile(sca_vals, len(tra_vals))\n",
    "num = len(tra_list)\n",
    "\n",
    "N_try = 10\n",
    "\n",
    "\n",
    "mode = 'similarity'\n",
    "corr_lst = np.zeros((N_try, num))\n",
    "\n",
    "for i_try in range(N_try):\n",
    "    print()\n",
    "    print('===== {} ====='.format(i_try))\n",
    "    \n",
    "    for idx in range(num):\n",
    "        \n",
    "        if mode == 'similarity':\n",
    "            dil = 1\n",
    "            phi = 0\n",
    "            b = np.zeros((2,))\n",
    "            optim_vars = [dil, phi, b]\n",
    "        elif mode == 'euclidean':\n",
    "            phi = 0\n",
    "            b = np.zeros((2,))\n",
    "            optim_vars = [phi, b]\n",
    "\n",
    "        sigma = 10\n",
    "        \n",
    "        tra = tra_list[idx]\n",
    "        sca = sca_list[idx]\n",
    "        # Convert to affine tranform expression: A and b\n",
    "        A = sca * np.eye(2)\n",
    "        b = np.array([tra, 0])\n",
    "        X0, X, Om, c = generate_data(mode, A, b)\n",
    "\n",
    "        for repeat in range(5):\n",
    "            Om_tilde = dilate_support(Om,sigma)\n",
    "            param_dict = get_default_pgd_dict(\n",
    "                step=0.005*sigma, max_iter=50, epoch_len=10, parametric=True, center=c, tol=1e-5,\n",
    "                sigma=sigma, quiet=False, use_nesterov=False )\n",
    "            tau_u, tau_v, optim_vars, error, Rvals = registration_l2_exp( X, X0, Om_tilde, Om, c,\n",
    "                                                                       mode, optim_vars, param_dict=param_dict,\n",
    "                                                                       visualize=False)\n",
    "            sigma /= 2\n",
    "\n",
    "        Rval = np.max(Rvals)\n",
    "        corr_lst[i_try, idx] = Rval\n",
    "        print([idx, Rval])\n",
    "        \n",
    "        np.save('gridsearch.npy', corr_lst)\n"
   ]
  },
  {
   "cell_type": "code",
   "execution_count": null,
   "id": "a166ae2e",
   "metadata": {},
   "outputs": [],
   "source": []
  },
  {
   "cell_type": "code",
   "execution_count": null,
   "id": "1fa534c9",
   "metadata": {},
   "outputs": [],
   "source": []
  }
 ],
 "metadata": {
  "kernelspec": {
   "display_name": "Python 3 (ipykernel)",
   "language": "python",
   "name": "python3"
  },
  "language_info": {
   "codemirror_mode": {
    "name": "ipython",
    "version": 3
   },
   "file_extension": ".py",
   "mimetype": "text/x-python",
   "name": "python",
   "nbconvert_exporter": "python",
   "pygments_lexer": "ipython3",
   "version": "3.8.12"
  }
 },
 "nbformat": 4,
 "nbformat_minor": 5
}
